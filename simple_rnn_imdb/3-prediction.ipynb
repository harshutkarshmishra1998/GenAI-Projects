{
 "cells": [
  {
   "cell_type": "code",
   "execution_count": 1,
   "metadata": {},
   "outputs": [],
   "source": [
    "# Step 1: Import Libraries and Load the Model\n",
    "import numpy as np\n",
    "import tensorflow as tf\n",
    "from tensorflow.keras.datasets import imdb\n",
    "from tensorflow.keras.preprocessing import sequence\n",
    "from tensorflow.keras.models import load_model"
   ]
  },
  {
   "cell_type": "code",
   "execution_count": 2,
   "metadata": {},
   "outputs": [],
   "source": [
    "# Load the IMDB dataset word index\n",
    "word_index = imdb.get_word_index()\n",
    "reverse_word_index = {value: key for key, value in word_index.items()}"
   ]
  },
  {
   "cell_type": "code",
   "execution_count": 3,
   "metadata": {},
   "outputs": [
    {
     "name": "stderr",
     "output_type": "stream",
     "text": [
      "WARNING:absl:Compiled the loaded model, but the compiled metrics have yet to be built. `model.compile_metrics` will be empty until you train or evaluate the model.\n"
     ]
    },
    {
     "data": {
      "text/html": [
       "<pre style=\"white-space:pre;overflow-x:auto;line-height:normal;font-family:Menlo,'DejaVu Sans Mono',consolas,'Courier New',monospace\"><span style=\"font-weight: bold\">Model: \"sequential\"</span>\n",
       "</pre>\n"
      ],
      "text/plain": [
       "\u001b[1mModel: \"sequential\"\u001b[0m\n"
      ]
     },
     "metadata": {},
     "output_type": "display_data"
    },
    {
     "data": {
      "text/html": [
       "<pre style=\"white-space:pre;overflow-x:auto;line-height:normal;font-family:Menlo,'DejaVu Sans Mono',consolas,'Courier New',monospace\">┏━━━━━━━━━━━━━━━━━━━━━━━━━━━━━━━━━┳━━━━━━━━━━━━━━━━━━━━━━━━┳━━━━━━━━━━━━━━━┓\n",
       "┃<span style=\"font-weight: bold\"> Layer (type)                    </span>┃<span style=\"font-weight: bold\"> Output Shape           </span>┃<span style=\"font-weight: bold\">       Param # </span>┃\n",
       "┡━━━━━━━━━━━━━━━━━━━━━━━━━━━━━━━━━╇━━━━━━━━━━━━━━━━━━━━━━━━╇━━━━━━━━━━━━━━━┩\n",
       "│ embedding (<span style=\"color: #0087ff; text-decoration-color: #0087ff\">Embedding</span>)           │ (<span style=\"color: #00af00; text-decoration-color: #00af00\">32</span>, <span style=\"color: #00af00; text-decoration-color: #00af00\">500</span>, <span style=\"color: #00af00; text-decoration-color: #00af00\">128</span>)         │     <span style=\"color: #00af00; text-decoration-color: #00af00\">1,280,000</span> │\n",
       "├─────────────────────────────────┼────────────────────────┼───────────────┤\n",
       "│ simple_rnn (<span style=\"color: #0087ff; text-decoration-color: #0087ff\">SimpleRNN</span>)          │ (<span style=\"color: #00af00; text-decoration-color: #00af00\">32</span>, <span style=\"color: #00af00; text-decoration-color: #00af00\">128</span>)              │        <span style=\"color: #00af00; text-decoration-color: #00af00\">32,896</span> │\n",
       "├─────────────────────────────────┼────────────────────────┼───────────────┤\n",
       "│ dense (<span style=\"color: #0087ff; text-decoration-color: #0087ff\">Dense</span>)                   │ (<span style=\"color: #00af00; text-decoration-color: #00af00\">32</span>, <span style=\"color: #00af00; text-decoration-color: #00af00\">1</span>)                │           <span style=\"color: #00af00; text-decoration-color: #00af00\">129</span> │\n",
       "└─────────────────────────────────┴────────────────────────┴───────────────┘\n",
       "</pre>\n"
      ],
      "text/plain": [
       "┏━━━━━━━━━━━━━━━━━━━━━━━━━━━━━━━━━┳━━━━━━━━━━━━━━━━━━━━━━━━┳━━━━━━━━━━━━━━━┓\n",
       "┃\u001b[1m \u001b[0m\u001b[1mLayer (type)                   \u001b[0m\u001b[1m \u001b[0m┃\u001b[1m \u001b[0m\u001b[1mOutput Shape          \u001b[0m\u001b[1m \u001b[0m┃\u001b[1m \u001b[0m\u001b[1m      Param #\u001b[0m\u001b[1m \u001b[0m┃\n",
       "┡━━━━━━━━━━━━━━━━━━━━━━━━━━━━━━━━━╇━━━━━━━━━━━━━━━━━━━━━━━━╇━━━━━━━━━━━━━━━┩\n",
       "│ embedding (\u001b[38;5;33mEmbedding\u001b[0m)           │ (\u001b[38;5;34m32\u001b[0m, \u001b[38;5;34m500\u001b[0m, \u001b[38;5;34m128\u001b[0m)         │     \u001b[38;5;34m1,280,000\u001b[0m │\n",
       "├─────────────────────────────────┼────────────────────────┼───────────────┤\n",
       "│ simple_rnn (\u001b[38;5;33mSimpleRNN\u001b[0m)          │ (\u001b[38;5;34m32\u001b[0m, \u001b[38;5;34m128\u001b[0m)              │        \u001b[38;5;34m32,896\u001b[0m │\n",
       "├─────────────────────────────────┼────────────────────────┼───────────────┤\n",
       "│ dense (\u001b[38;5;33mDense\u001b[0m)                   │ (\u001b[38;5;34m32\u001b[0m, \u001b[38;5;34m1\u001b[0m)                │           \u001b[38;5;34m129\u001b[0m │\n",
       "└─────────────────────────────────┴────────────────────────┴───────────────┘\n"
      ]
     },
     "metadata": {},
     "output_type": "display_data"
    },
    {
     "data": {
      "text/html": [
       "<pre style=\"white-space:pre;overflow-x:auto;line-height:normal;font-family:Menlo,'DejaVu Sans Mono',consolas,'Courier New',monospace\"><span style=\"font-weight: bold\"> Total params: </span><span style=\"color: #00af00; text-decoration-color: #00af00\">1,313,027</span> (5.01 MB)\n",
       "</pre>\n"
      ],
      "text/plain": [
       "\u001b[1m Total params: \u001b[0m\u001b[38;5;34m1,313,027\u001b[0m (5.01 MB)\n"
      ]
     },
     "metadata": {},
     "output_type": "display_data"
    },
    {
     "data": {
      "text/html": [
       "<pre style=\"white-space:pre;overflow-x:auto;line-height:normal;font-family:Menlo,'DejaVu Sans Mono',consolas,'Courier New',monospace\"><span style=\"font-weight: bold\"> Trainable params: </span><span style=\"color: #00af00; text-decoration-color: #00af00\">1,313,025</span> (5.01 MB)\n",
       "</pre>\n"
      ],
      "text/plain": [
       "\u001b[1m Trainable params: \u001b[0m\u001b[38;5;34m1,313,025\u001b[0m (5.01 MB)\n"
      ]
     },
     "metadata": {},
     "output_type": "display_data"
    },
    {
     "data": {
      "text/html": [
       "<pre style=\"white-space:pre;overflow-x:auto;line-height:normal;font-family:Menlo,'DejaVu Sans Mono',consolas,'Courier New',monospace\"><span style=\"font-weight: bold\"> Non-trainable params: </span><span style=\"color: #00af00; text-decoration-color: #00af00\">0</span> (0.00 B)\n",
       "</pre>\n"
      ],
      "text/plain": [
       "\u001b[1m Non-trainable params: \u001b[0m\u001b[38;5;34m0\u001b[0m (0.00 B)\n"
      ]
     },
     "metadata": {},
     "output_type": "display_data"
    },
    {
     "data": {
      "text/html": [
       "<pre style=\"white-space:pre;overflow-x:auto;line-height:normal;font-family:Menlo,'DejaVu Sans Mono',consolas,'Courier New',monospace\"><span style=\"font-weight: bold\"> Optimizer params: </span><span style=\"color: #00af00; text-decoration-color: #00af00\">2</span> (12.00 B)\n",
       "</pre>\n"
      ],
      "text/plain": [
       "\u001b[1m Optimizer params: \u001b[0m\u001b[38;5;34m2\u001b[0m (12.00 B)\n"
      ]
     },
     "metadata": {},
     "output_type": "display_data"
    }
   ],
   "source": [
    "# Load the pre-trained model with ReLU activation\n",
    "model = load_model('simple_rnn_imdb.h5')\n",
    "model.summary()"
   ]
  },
  {
   "cell_type": "code",
   "execution_count": 4,
   "metadata": {},
   "outputs": [
    {
     "data": {
      "text/plain": [
       "[array([[-0.66553664, -0.09702189, -0.39861214, ..., -0.74688095,\n",
       "         -1.8711654 , -0.65387803],\n",
       "        [ 0.01703908,  0.10078146,  0.02517793, ..., -0.04173774,\n",
       "         -0.08570734,  0.0477409 ],\n",
       "        [ 0.12057806, -0.07373809,  0.15811604, ..., -0.02560299,\n",
       "         -0.02553031,  0.07774144],\n",
       "        ...,\n",
       "        [-0.0292292 ,  0.0583158 , -0.11869093, ..., -0.07913104,\n",
       "          0.04886204,  0.06428437],\n",
       "        [-0.14571807, -0.06812032,  0.00454654, ..., -0.05401364,\n",
       "         -0.04094832, -0.11613587],\n",
       "        [ 0.01408361,  0.09703659, -0.15802477, ..., -0.00763706,\n",
       "          0.09498238,  0.19026236]], dtype=float32),\n",
       " array([[-0.09254118,  0.03321232,  0.00698357, ...,  0.06913025,\n",
       "         -0.06116964,  0.02486115],\n",
       "        [ 0.00866739, -0.0312871 , -0.11870227, ...,  0.06664065,\n",
       "         -0.06165391,  0.04479326],\n",
       "        [-0.05122342,  0.0768891 ,  0.0814268 , ...,  0.02907063,\n",
       "         -0.01018453, -0.04703974],\n",
       "        ...,\n",
       "        [ 0.07149449, -0.15649576, -0.08262994, ..., -0.00950029,\n",
       "          0.09040523,  0.04153765],\n",
       "        [-0.11045639, -0.1304295 , -0.05471905, ..., -0.16064696,\n",
       "         -0.0161656 , -0.08110654],\n",
       "        [ 0.04560506, -0.09072842,  0.1442091 , ..., -0.07343435,\n",
       "         -0.11810527, -0.17056489]], dtype=float32),\n",
       " array([[ 0.01580902, -0.09345705, -0.11840257, ..., -0.11308306,\n",
       "         -0.1145643 ,  0.04569208],\n",
       "        [ 0.11250515, -0.08891208,  0.02785013, ...,  0.03591935,\n",
       "         -0.29361787,  0.06318107],\n",
       "        [-0.00909426, -0.16959691, -0.20482416, ...,  0.11081342,\n",
       "         -0.14848241,  0.1495101 ],\n",
       "        ...,\n",
       "        [ 0.02295344,  0.10826648, -0.10748065, ..., -0.01084954,\n",
       "         -0.0966825 , -0.01059668],\n",
       "        [ 0.03502265,  0.2075905 , -0.25771734, ..., -0.02305049,\n",
       "         -0.02997452,  0.10619082],\n",
       "        [ 0.07858983,  0.01946655,  0.03953102, ..., -0.21617945,\n",
       "          0.18526508,  0.05220632]], dtype=float32),\n",
       " array([ 0.04586078,  0.01291285, -0.01653447, -0.03752023, -0.03540675,\n",
       "        -0.03451233,  0.03242252,  0.06508025,  0.03137948,  0.01011109,\n",
       "         0.01334589, -0.04099777, -0.06538244, -0.01966578,  0.02668482,\n",
       "         0.0041086 , -0.04506861,  0.03762374, -0.04591635,  0.04253021,\n",
       "         0.04937653, -0.03472406, -0.02162312, -0.05737705, -0.01992464,\n",
       "        -0.03644728,  0.04670752, -0.04117081,  0.0134411 , -0.02505467,\n",
       "        -0.03400029, -0.10074098, -0.02765006, -0.03297487, -0.00398314,\n",
       "         0.02694763, -0.02222735, -0.07373007,  0.02812562,  0.0289638 ,\n",
       "        -0.00436908,  0.06744558,  0.0798442 , -0.02034443,  0.00855516,\n",
       "         0.0087752 , -0.03325383,  0.02177764,  0.03058268,  0.13455255,\n",
       "        -0.00651584, -0.0572702 , -0.0444543 , -0.04393012, -0.01573712,\n",
       "         0.01662823,  0.01165708, -0.03823777,  0.03628423, -0.02232862,\n",
       "        -0.04434361, -0.06887984,  0.05506033,  0.02979672,  0.00157267,\n",
       "         0.00264379, -0.01942145, -0.02713327, -0.02123195, -0.04664806,\n",
       "        -0.02472425,  0.11260201,  0.01201237, -0.05039084, -0.05792189,\n",
       "         0.07685883,  0.04039543, -0.05517276, -0.02451941,  0.03219728,\n",
       "        -0.05021777,  0.07070896,  0.0592319 , -0.01613303,  0.01796474,\n",
       "         0.04163868,  0.01696986, -0.01449424,  0.03815061, -0.04865574,\n",
       "         0.00112052, -0.00185448, -0.03142359,  0.01757365,  0.01527655,\n",
       "         0.05922862, -0.04615563, -0.04467273,  0.05573955, -0.03105017,\n",
       "        -0.01926352,  0.05919762, -0.03178129,  0.00893056, -0.03667363,\n",
       "        -0.05564959,  0.05326071,  0.02748556, -0.01935103, -0.03726758,\n",
       "        -0.00881745,  0.06759181, -0.06585128,  0.01679522,  0.0239285 ,\n",
       "        -0.06363444, -0.06394874,  0.03431477, -0.01216362, -0.00745867,\n",
       "         0.04701592, -0.04580805,  0.0232363 ,  0.0386091 ,  0.00492769,\n",
       "        -0.02159143,  0.04775031,  0.04539321], dtype=float32),\n",
       " array([[ 2.32127741e-01],\n",
       "        [-1.33152511e-02],\n",
       "        [ 9.10037085e-02],\n",
       "        [-2.30090737e-01],\n",
       "        [ 9.07210633e-02],\n",
       "        [-1.25027090e-01],\n",
       "        [ 1.94651455e-01],\n",
       "        [ 2.19197385e-02],\n",
       "        [ 6.64312467e-02],\n",
       "        [ 1.31648138e-01],\n",
       "        [ 2.21911073e-01],\n",
       "        [-1.15498357e-01],\n",
       "        [-1.72810592e-02],\n",
       "        [-4.62216809e-02],\n",
       "        [ 9.79234651e-02],\n",
       "        [-5.82795501e-01],\n",
       "        [ 5.08599505e-02],\n",
       "        [ 4.18130048e-02],\n",
       "        [-2.31002152e-01],\n",
       "        [ 9.30664688e-02],\n",
       "        [-2.62907028e-01],\n",
       "        [-3.59909713e-01],\n",
       "        [-1.29888102e-01],\n",
       "        [-1.22793533e-01],\n",
       "        [-3.90826076e-01],\n",
       "        [-1.11281394e-03],\n",
       "        [-2.25437470e-02],\n",
       "        [ 1.47913620e-01],\n",
       "        [ 1.28242493e-01],\n",
       "        [ 1.74484067e-02],\n",
       "        [-1.78563908e-01],\n",
       "        [ 1.04191676e-01],\n",
       "        [ 3.26694958e-02],\n",
       "        [ 9.66631547e-02],\n",
       "        [ 1.85587838e-01],\n",
       "        [ 1.95191294e-01],\n",
       "        [ 2.58738995e-01],\n",
       "        [-1.13328151e-01],\n",
       "        [-7.44110048e-02],\n",
       "        [ 1.32747993e-01],\n",
       "        [-1.24143049e-01],\n",
       "        [ 1.75026044e-01],\n",
       "        [ 1.64402276e-01],\n",
       "        [-3.76111246e-03],\n",
       "        [-5.57975769e-02],\n",
       "        [-9.27899852e-02],\n",
       "        [-7.40491450e-02],\n",
       "        [ 1.69455990e-01],\n",
       "        [-1.69077888e-01],\n",
       "        [ 9.88545418e-02],\n",
       "        [ 6.98136240e-02],\n",
       "        [-2.48059928e-01],\n",
       "        [-7.99089577e-03],\n",
       "        [-1.31549954e-01],\n",
       "        [-1.61909014e-01],\n",
       "        [-1.92730036e-03],\n",
       "        [-2.20218045e-03],\n",
       "        [-1.49733081e-01],\n",
       "        [ 3.18745196e-01],\n",
       "        [-1.25078321e-01],\n",
       "        [-1.08925015e-01],\n",
       "        [-2.19764132e-02],\n",
       "        [-2.10137650e-01],\n",
       "        [ 1.95820570e-01],\n",
       "        [ 1.27955183e-01],\n",
       "        [ 1.12402864e-01],\n",
       "        [-6.86827078e-02],\n",
       "        [ 3.48373204e-02],\n",
       "        [-8.12375918e-03],\n",
       "        [-8.18612948e-02],\n",
       "        [-4.22424488e-02],\n",
       "        [-5.65144122e-01],\n",
       "        [ 2.58326739e-01],\n",
       "        [-1.95896655e-01],\n",
       "        [ 2.77244747e-01],\n",
       "        [ 7.26286694e-02],\n",
       "        [ 1.67702824e-01],\n",
       "        [-9.40653160e-02],\n",
       "        [-7.07765296e-02],\n",
       "        [ 1.20584629e-01],\n",
       "        [-1.52090296e-01],\n",
       "        [ 1.52177900e-01],\n",
       "        [-9.93816927e-02],\n",
       "        [-8.91329423e-02],\n",
       "        [-1.67998895e-01],\n",
       "        [-3.41206849e-01],\n",
       "        [-7.70906806e-02],\n",
       "        [-2.50407547e-01],\n",
       "        [-4.99583453e-01],\n",
       "        [ 1.04798377e-02],\n",
       "        [-2.07121894e-01],\n",
       "        [-1.16616642e+00],\n",
       "        [ 2.73542851e-01],\n",
       "        [-8.49998463e-03],\n",
       "        [ 4.94707435e-01],\n",
       "        [ 1.36914894e-01],\n",
       "        [-1.73372969e-01],\n",
       "        [ 4.04071137e-02],\n",
       "        [ 1.25954717e-01],\n",
       "        [ 7.22609833e-02],\n",
       "        [-2.10627331e-03],\n",
       "        [-6.28028333e-01],\n",
       "        [-1.88587010e-01],\n",
       "        [-1.03992934e-03],\n",
       "        [ 2.47452885e-01],\n",
       "        [-5.28230853e-02],\n",
       "        [ 2.16466188e-01],\n",
       "        [ 1.87406152e-01],\n",
       "        [ 1.41063333e-02],\n",
       "        [ 4.32148054e-02],\n",
       "        [-1.49426073e-01],\n",
       "        [ 4.60384339e-02],\n",
       "        [-1.45152017e-01],\n",
       "        [ 1.90084904e-01],\n",
       "        [ 8.11988339e-02],\n",
       "        [ 1.77479267e-01],\n",
       "        [-8.57372582e-02],\n",
       "        [-6.31014705e-02],\n",
       "        [ 3.05009574e-01],\n",
       "        [-2.18488052e-01],\n",
       "        [ 5.71984887e-01],\n",
       "        [-2.81422008e-02],\n",
       "        [-7.65725747e-02],\n",
       "        [-3.33659917e-01],\n",
       "        [-1.85289100e-01],\n",
       "        [ 1.14163466e-01],\n",
       "        [-2.89416790e-01],\n",
       "        [-1.67011023e-01]], dtype=float32),\n",
       " array([-0.62696767], dtype=float32)]"
      ]
     },
     "execution_count": 4,
     "metadata": {},
     "output_type": "execute_result"
    }
   ],
   "source": [
    "model.get_weights()"
   ]
  },
  {
   "cell_type": "code",
   "execution_count": 5,
   "metadata": {},
   "outputs": [],
   "source": [
    "# Step 2: Helper Functions\n",
    "# Function to decode reviews\n",
    "def decode_review(encoded_review):\n",
    "    return ' '.join([reverse_word_index.get(i - 3, '?') for i in encoded_review])\n",
    "\n",
    "# Function to preprocess user input\n",
    "def preprocess_text(text):\n",
    "    words = text.lower().split()\n",
    "    encoded_review = [word_index.get(word, 2) + 3 for word in words]\n",
    "    padded_review = sequence.pad_sequences([encoded_review], maxlen=500)\n",
    "    return padded_review"
   ]
  },
  {
   "cell_type": "code",
   "execution_count": 6,
   "metadata": {},
   "outputs": [],
   "source": [
    "### Prediction  function\n",
    "\n",
    "def predict_sentiment(review):\n",
    "    preprocessed_input=preprocess_text(review)\n",
    "\n",
    "    prediction=model.predict(preprocessed_input)\n",
    "\n",
    "    sentiment = 'Positive' if prediction[0][0] > 0.5 else 'Negative'\n",
    "    \n",
    "    return sentiment, prediction[0][0]\n",
    "\n"
   ]
  },
  {
   "cell_type": "code",
   "execution_count": 7,
   "metadata": {},
   "outputs": [
    {
     "name": "stdout",
     "output_type": "stream",
     "text": [
      "\u001b[1m1/1\u001b[0m \u001b[32m━━━━━━━━━━━━━━━━━━━━\u001b[0m\u001b[37m\u001b[0m \u001b[1m1s\u001b[0m 862ms/step\n",
      "Review: I love this movie! It's fantastic and thrilling.\n",
      "Sentiment: Positive\n",
      "Prediction Score: 0.8397959470748901\n"
     ]
    }
   ],
   "source": [
    "# Step 4: User Input and Prediction\n",
    "# Example review for prediction\n",
    "example_review = \"I love this movie! It's fantastic and thrilling.\"\n",
    "\n",
    "sentiment,score=predict_sentiment(example_review)\n",
    "\n",
    "print(f'Review: {example_review}')\n",
    "print(f'Sentiment: {sentiment}')\n",
    "print(f'Prediction Score: {score}')"
   ]
  },
  {
   "cell_type": "code",
   "execution_count": null,
   "metadata": {},
   "outputs": [],
   "source": []
  },
  {
   "cell_type": "code",
   "execution_count": null,
   "metadata": {},
   "outputs": [],
   "source": []
  },
  {
   "cell_type": "code",
   "execution_count": null,
   "metadata": {},
   "outputs": [],
   "source": []
  },
  {
   "cell_type": "code",
   "execution_count": null,
   "metadata": {},
   "outputs": [],
   "source": []
  }
 ],
 "metadata": {
  "kernelspec": {
   "display_name": "Python 3",
   "language": "python",
   "name": "python3"
  },
  "language_info": {
   "codemirror_mode": {
    "name": "ipython",
    "version": 3
   },
   "file_extension": ".py",
   "mimetype": "text/x-python",
   "name": "python",
   "nbconvert_exporter": "python",
   "pygments_lexer": "ipython3",
   "version": "3.11.9"
  }
 },
 "nbformat": 4,
 "nbformat_minor": 2
}
