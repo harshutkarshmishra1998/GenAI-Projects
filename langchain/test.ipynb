{
 "cells": [
  {
   "cell_type": "code",
   "execution_count": 3,
   "id": "d8c6e221",
   "metadata": {},
   "outputs": [],
   "source": [
    "import api_keys\n",
    "\n",
    "# print(api_keys.open_ai_key)\n",
    "# print(api_keys.lang_chain_key)\n",
    "# print(api_keys.lang_chain_project)"
   ]
  }
 ],
 "metadata": {
  "kernelspec": {
   "display_name": "Python 3",
   "language": "python",
   "name": "python3"
  },
  "language_info": {
   "codemirror_mode": {
    "name": "ipython",
    "version": 3
   },
   "file_extension": ".py",
   "mimetype": "text/x-python",
   "name": "python",
   "nbconvert_exporter": "python",
   "pygments_lexer": "ipython3",
   "version": "3.11.9"
  }
 },
 "nbformat": 4,
 "nbformat_minor": 5
}
